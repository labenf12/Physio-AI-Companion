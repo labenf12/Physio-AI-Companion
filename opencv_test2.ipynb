{
 "cells": [
  {
   "cell_type": "code",
   "execution_count": 1,
   "id": "3f29f909-2acc-4fee-bf2c-14ca99f3cbab",
   "metadata": {},
   "outputs": [],
   "source": [
    "# To use Inference Engine backend, specify location of plugins:\n",
    "# export LD_LIBRARY_PATH=/opt/intel/deeplearning_deploymenttoolkit/deployment_tools/external/mklml_lnx/lib:$LD_LIBRARY_PATH\n",
    "import cv2 as cv\n",
    "import numpy as np\n",
    "import argparse\n",
    "\n",
    "#parser = argparse.ArgumentParser()\n",
    "#parser.add_argument('--input', help='Path to image or video. Skip to capture frames from camera')\n",
    "#parser.add_argument('--thr', default=0.2, type=float, help='Threshold value for pose parts heat map')\n",
    "#parser.add_argument('--width', default=368, type=int, help='Resize input to specific width.')\n",
    "#parser.add_argument('--height', default=368, type=int, help='Resize input to specific height.')\n",
    "\n",
    "#args = parser.parse_args()\n",
    "\n",
    "BODY_PARTS = { \"Nose\": 0, \"Neck\": 1, \"RShoulder\": 2, \"RElbow\": 3, \"RWrist\": 4,\n",
    "               \"LShoulder\": 5, \"LElbow\": 6, \"LWrist\": 7, \"RHip\": 8, \"RKnee\": 9,\n",
    "               \"RAnkle\": 10, \"LHip\": 11, \"LKnee\": 12, \"LAnkle\": 13, \"REye\": 14,\n",
    "               \"LEye\": 15, \"REar\": 16, \"LEar\": 17, \"Background\": 18 }\n",
    "\n",
    "POSE_PAIRS = [ [\"Neck\", \"RShoulder\"], [\"Neck\", \"LShoulder\"], [\"RShoulder\", \"RElbow\"],\n",
    "               [\"RElbow\", \"RWrist\"], [\"LShoulder\", \"LElbow\"], [\"LElbow\", \"LWrist\"],\n",
    "               [\"Neck\", \"RHip\"], [\"RHip\", \"RKnee\"], [\"RKnee\", \"RAnkle\"], [\"Neck\", \"LHip\"],\n",
    "               [\"LHip\", \"LKnee\"], [\"LKnee\", \"LAnkle\"], [\"Neck\", \"Nose\"], [\"Nose\", \"REye\"],\n",
    "               [\"REye\", \"REar\"], [\"Nose\", \"LEye\"], [\"LEye\", \"LEar\"] ]\n",
    "\n",
    "#inWidth = args.width\n",
    "#inHeight = args.height\n"
   ]
  },
  {
   "cell_type": "code",
   "execution_count": 2,
   "id": "f88812a0-1bd2-4fa4-a6c3-4b71d3b8ee29",
   "metadata": {},
   "outputs": [
    {
     "name": "stdout",
     "output_type": "stream",
     "text": [
      "256  : 144\n"
     ]
    },
    {
     "name": "stderr",
     "output_type": "stream",
     "text": [
      "Warning: Ignoring XDG_SESSION_TYPE=wayland on Gnome. Use QT_QPA_PLATFORM=wayland to run on Wayland anyway.\n",
      "libGL error: MESA-LOADER: failed to open iris: /usr/lib/dri/iris_dri.so: cannot open shared object file: No such file or directory (search paths /usr/lib/x86_64-linux-gnu/dri:\\$${ORIGIN}/dri:/usr/lib/dri, suffix _dri)\n",
      "libGL error: failed to load driver: iris\n",
      "libGL error: MESA-LOADER: failed to open swrast: /usr/lib/dri/swrast_dri.so: cannot open shared object file: No such file or directory (search paths /usr/lib/x86_64-linux-gnu/dri:\\$${ORIGIN}/dri:/usr/lib/dri, suffix _dri)\n",
      "libGL error: failed to load driver: swrast\n"
     ]
    }
   ],
   "source": [
    "net = cv.dnn.readNetFromTensorflow(\"graph_opt.pb\")\n",
    "\n",
    "#cap = cv.VideoCapture(args.input if args.input else 0)\n",
    "cap = cv.VideoCapture(\"./data/squat1.jpeg\")\n",
    "cap = cv.VideoCapture(\"./data/output_sample.mp4\")\n",
    "cap = cv.VideoCapture(\"./data/130lb Overhead Squat #shorts #crossfit #bodybuilding.mp4\")\n",
    "cap = cv.VideoCapture(\"./data/GoFit Superband Overhead Squat.mp4\")\n",
    "cap = cv.VideoCapture(\"./data/How to Do an Overhead Squat by Wodstar.mp4\")\n",
    "#cap = cv.VideoCapture(\"./data/OVERHEAD SQUAT.mp4\")\n",
    "#cap = cv.VideoCapture(\"./data/Overhead Squat Olympic Weightlifting Exercise Library.mp4\")\n",
    "#cap = cv.VideoCapture(\"./data/Overhead Squat Therapy.mp4\")\n",
    "\n",
    "inWidth  = int(cap.get(3))  # float `width`\n",
    "inHeight = int(cap.get(4))  # float `height`\n",
    "thr = 0.2\n",
    "\n",
    "print(inWidth,\" :\" ,inHeight)\n",
    "\n",
    "while cv.waitKey(1) < 0:   #Press ESC to exit\n",
    "    hasFrame, frame = cap.read()\n",
    "    if not hasFrame:\n",
    "        cv.waitKey()\n",
    "        break\n",
    "\n",
    "    frameWidth = frame.shape[1]\n",
    "    frameHeight = frame.shape[0]\n",
    "    \n",
    "    net.setInput(cv.dnn.blobFromImage(frame, 1.0, (inWidth, inHeight), (127.5, 127.5, 127.5), swapRB=True, crop=False))\n",
    "    out = net.forward()\n",
    "    out = out[:, :19, :, :]  # MobileNet output [1, 57, -1, -1], we only need the first 19 elements\n",
    "\n",
    "    assert(len(BODY_PARTS) == out.shape[1])\n",
    "\n",
    "    points = []\n",
    "    for i in range(len(BODY_PARTS)):\n",
    "        # Slice heatmap of corresponging body's part.\n",
    "        heatMap = out[0, i, :, :]\n",
    "\n",
    "        # Originally, we try to find all the local maximums. To simplify a sample\n",
    "        # we just find a global one. However only a single pose at the same time\n",
    "        # could be detected this way.\n",
    "        _, conf, _, point = cv.minMaxLoc(heatMap)\n",
    "        x = (frameWidth * point[0]) / out.shape[3]\n",
    "        y = (frameHeight * point[1]) / out.shape[2]\n",
    "        # Add a point if it's confidence is higher than threshold.\n",
    "#        points.append((int(x), int(y)) if conf > args.thr else None)\n",
    "        points.append((int(x), int(y)) if conf > thr else None)\n",
    "\n",
    "    for pair in POSE_PAIRS:\n",
    "        partFrom = pair[0]\n",
    "        partTo = pair[1]\n",
    "        assert(partFrom in BODY_PARTS)\n",
    "        assert(partTo in BODY_PARTS)\n",
    "\n",
    "        idFrom = BODY_PARTS[partFrom]\n",
    "        idTo = BODY_PARTS[partTo]\n",
    "\n",
    "        if points[idFrom] and points[idTo]:\n",
    "            cv.line(frame, points[idFrom], points[idTo], (0, 255, 0), 3)\n",
    "            cv.ellipse(frame, points[idFrom], (3, 3), 0, 0, 360, (0, 0, 255), cv.FILLED)\n",
    "            cv.ellipse(frame, points[idTo], (3, 3), 0, 0, 360, (0, 0, 255), cv.FILLED)\n",
    "\n",
    "    t, _ = net.getPerfProfile()\n",
    "    freq = cv.getTickFrequency() / 1000\n",
    "    cv.putText(frame, '%.2fms' % (t / freq), (10, 20), cv.FONT_HERSHEY_SIMPLEX, 0.5, (0, 0, 0))\n",
    "\n",
    "    cv.imshow('OpenPose using OpenCV', frame)\n",
    "cv.destroyAllWindows()"
   ]
  },
  {
   "cell_type": "code",
   "execution_count": null,
   "id": "3456b781-d234-414f-afdf-15b3ec9041f1",
   "metadata": {},
   "outputs": [],
   "source": []
  }
 ],
 "metadata": {
  "kernelspec": {
   "display_name": "Python 3 (ipykernel)",
   "language": "python",
   "name": "python3"
  },
  "language_info": {
   "codemirror_mode": {
    "name": "ipython",
    "version": 3
   },
   "file_extension": ".py",
   "mimetype": "text/x-python",
   "name": "python",
   "nbconvert_exporter": "python",
   "pygments_lexer": "ipython3",
   "version": "3.11.5"
  }
 },
 "nbformat": 4,
 "nbformat_minor": 5
}
